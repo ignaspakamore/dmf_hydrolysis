{
 "cells": [
  {
   "cell_type": "code",
   "execution_count": 1,
   "id": "d1dc2614",
   "metadata": {},
   "outputs": [],
   "source": [
    "import pandas as pd\n",
    "import numpy as np"
   ]
  },
  {
   "cell_type": "code",
   "execution_count": 2,
   "id": "98e3926a",
   "metadata": {},
   "outputs": [],
   "source": [
    "data = pd.read_excel(\"DATA_moles.xlsx\")"
   ]
  },
  {
   "cell_type": "code",
   "execution_count": 3,
   "id": "73cd6366",
   "metadata": {},
   "outputs": [],
   "source": [
    "acids = data[\"ACID\"].unique()"
   ]
  },
  {
   "cell_type": "code",
   "execution_count": 4,
   "id": "38b1e260",
   "metadata": {},
   "outputs": [
    {
     "data": {
      "text/plain": [
       "array(['TFAA', 'HCl', 'ClAA', 'AA', 'DClAA', 'H2SO4', 'HNO3'],\n",
       "      dtype=object)"
      ]
     },
     "execution_count": 4,
     "metadata": {},
     "output_type": "execute_result"
    }
   ],
   "source": [
    "acids"
   ]
  },
  {
   "cell_type": "code",
   "execution_count": 5,
   "id": "efcaf5a2",
   "metadata": {},
   "outputs": [],
   "source": [
    "def moles(ro, v, mr):\n",
    "    return (ro*v)/mr\n",
    "def moles_hcl(v):\n",
    "    return 12*(v/1000)\n",
    "def moles_hno3(v):\n",
    "    return 15.8*(v/1000)\n"
   ]
  },
  {
   "cell_type": "code",
   "execution_count": 6,
   "id": "ba1659d0",
   "metadata": {},
   "outputs": [],
   "source": [
    "mr ={'TFAA':114.023,\n",
    "    'AA':60,\n",
    "    'DClAA':128.94,\n",
    "    'H2SO4': 98.079 ,\n",
    "    'HNO3':63,\n",
    "    'ClAA':94.5}\n",
    "ro ={'TFAA':1.49,\n",
    "    'AA':1.05,\n",
    "    'DClAA':1.5634,\n",
    "    'H2SO4':1.83,\n",
    "    'HNO3':1.51,\n",
    "    'ClAA':1.58}"
   ]
  },
  {
   "cell_type": "code",
   "execution_count": 7,
   "id": "2e173c8c",
   "metadata": {},
   "outputs": [],
   "source": [
    "acid_moles = []"
   ]
  },
  {
   "cell_type": "code",
   "execution_count": 8,
   "id": "9adff0a6",
   "metadata": {},
   "outputs": [],
   "source": [
    "for index, row in data.iterrows():\n",
    "    if row[\"ACID\"] != 'HCl' and row[\"ACID\"] != 'HNO3' and row[\"ACID\"] != 'ClAA':\n",
    "        if row[\"V(Acid)\"] != 'nan':\n",
    "            mls = moles(ro[row[\"ACID\"]], row[\"V(Acid)\"], mr[row[\"ACID\"]])\n",
    "            acid_moles.append(mls)\n",
    "    elif row[\"ACID\"] == 'HCl' :\n",
    "        #Because HCl is Aq. solution \n",
    "        mls = moles_hcl(row[\"V(Acid)\"])\n",
    "        acid_moles.append(mls)\n",
    "        \n",
    "    elif row[\"ACID\"] == 'HNO3' :\n",
    "        mls = moles_hno3(row[\"V(Acid)\"])\n",
    "        acid_moles.append(mls)\n",
    "     \n",
    "    elif row[\"ACID\"] == 'ClAA' :\n",
    "        #ClAA is solid, hence recorded mols are used\n",
    "        acid_moles.append(row['n (Acid)'])\n",
    "    \n",
    "    \n",
    "    \n",
    "    "
   ]
  },
  {
   "cell_type": "code",
   "execution_count": 9,
   "id": "1e54395e",
   "metadata": {},
   "outputs": [],
   "source": [
    "data[\"n (Acid)\"] = acid_moles"
   ]
  },
  {
   "cell_type": "code",
   "execution_count": 10,
   "id": "7c8cdfd5",
   "metadata": {},
   "outputs": [],
   "source": [
    "data.to_excel(\"DATA_moles.xlsx\")"
   ]
  }
 ],
 "metadata": {
  "kernelspec": {
   "display_name": "Python 3 (ipykernel)",
   "language": "python",
   "name": "python3"
  },
  "language_info": {
   "codemirror_mode": {
    "name": "ipython",
    "version": 3
   },
   "file_extension": ".py",
   "mimetype": "text/x-python",
   "name": "python",
   "nbconvert_exporter": "python",
   "pygments_lexer": "ipython3",
   "version": "3.9.1"
  }
 },
 "nbformat": 4,
 "nbformat_minor": 5
}
